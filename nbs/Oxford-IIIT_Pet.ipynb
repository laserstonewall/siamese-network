{
 "cells": [
  {
   "cell_type": "code",
   "execution_count": 1,
   "metadata": {},
   "outputs": [],
   "source": [
    "import os\n",
    "import sys\n",
    "sys.path.append('..')\n",
    "from collections import defaultdict\n",
    "\n",
    "from siamese.dataprep import SiamesePairedDataset\n",
    "from siamese.networks import SiameseNetwork\n",
    "\n",
    "import PIL\n",
    "import numpy as np\n",
    "import pandas as pd\n",
    "\n",
    "from sklearn.model_selection import train_test_split\n",
    "\n",
    "import torch\n",
    "import torch.nn as nn\n",
    "from torch.utils.data import Dataset, DataLoader\n",
    "from torchvision import datasets, models, transforms\n",
    "\n",
    "import fastai\n",
    "from fastai.vision import *\n",
    "\n",
    "from tqdm import tqdm_notebook"
   ]
  },
  {
   "cell_type": "markdown",
   "metadata": {},
   "source": [
    "### Oxford-IIIT Pets Dataset\n",
    "The pets dataset was assembled in 2012 by researchers at the University of Oxford in the UK and the International Institute of Information Technology in Hyderabad, India. It consists of 7,349 images of 25 cat and 12 dog breeds (37 total breeds), with about 200 images from each breed. There are associated annotations for the images, including labels as well as bounding boxes for object localization studies.\n",
    "\n",
    "The data set can be found here: [Oxford-IIIT Pets Dataset](https://www.robots.ox.ac.uk/~vgg/data/pets/)\n",
    "\n",
    "To easily pull it locally, run the following, which will create a directory `data` in the `nbs` folder:"
   ]
  },
  {
   "cell_type": "code",
   "execution_count": 3,
   "metadata": {},
   "outputs": [
    {
     "name": "stdout",
     "output_type": "stream",
     "text": [
      "mkdir: cannot create directory ‘data’: File exists\n",
      "--2021-07-13 12:58:29--  https://www.robots.ox.ac.uk/~vgg/data/pets/data/images.tar.gz\n",
      "Resolving www.robots.ox.ac.uk (www.robots.ox.ac.uk)... 129.67.94.2\n",
      "Connecting to www.robots.ox.ac.uk (www.robots.ox.ac.uk)|129.67.94.2|:443... connected.\n",
      "HTTP request sent, awaiting response... 200 OK\n",
      "Length: 791918971 (755M) [application/x-gzip]\n",
      "Saving to: ‘data/images.tar.gz.1’\n",
      "\n",
      "images.tar.gz.1     100%[===================>] 755.23M  16.1MB/s    in 47s     \n",
      "\n",
      "2021-07-13 12:59:17 (15.9 MB/s) - ‘data/images.tar.gz.1’ saved [791918971/791918971]\n",
      "\n",
      "--2021-07-13 12:59:17--  https://www.robots.ox.ac.uk/~vgg/data/pets/data/annotations.tar.gz\n",
      "Resolving www.robots.ox.ac.uk (www.robots.ox.ac.uk)... 129.67.94.2\n",
      "Connecting to www.robots.ox.ac.uk (www.robots.ox.ac.uk)|129.67.94.2|:443... connected.\n",
      "HTTP request sent, awaiting response... 200 OK\n",
      "Length: 19173078 (18M) [application/x-gzip]\n",
      "Saving to: ‘data/annotations.tar.gz.1’\n",
      "\n",
      "annotations.tar.gz. 100%[===================>]  18.28M  11.2MB/s    in 1.6s    \n",
      "\n",
      "2021-07-13 12:59:19 (11.2 MB/s) - ‘data/annotations.tar.gz.1’ saved [19173078/19173078]\n",
      "\n"
     ]
    }
   ],
   "source": [
    "!mkdir data\n",
    "!wget -P data https://www.robots.ox.ac.uk/\\~vgg/data/pets/data/images.tar.gz\n",
    "!wget -P data https://www.robots.ox.ac.uk/\\~vgg/data/pets/data/annotations.tar.gz"
   ]
  },
  {
   "cell_type": "code",
   "execution_count": 4,
   "metadata": {},
   "outputs": [],
   "source": [
    "!tar -xf data/images.tar.gz -C data\n",
    "!tar -xf data/annotations.tar.gz -C data"
   ]
  },
  {
   "cell_type": "markdown",
   "metadata": {},
   "source": [
    "In addition to the `tar.gz` files, you should see two folders: `images` and `annotations`. `images` contains all the image files in `.jpg` format. \n",
    "\n",
    "`annotations` contains several files:\n",
    "\n",
    "- `list.txt`: Each row identifies the image name, class id (breed), whether the image is a cat or dog, and the breed id within the cats/dogs class.\n",
    "- `trainval.txt` and `test.txt`: Pre-determined 50% splits of the training data into a dataset for training+validation runs, and then a 50% holdout set for testing.\n",
    "- `xmls`: Location annotation for tight bounding box around the pet head, for object localization work.\n",
    "- `trimaps`: Pixel level foreground/background masks for object segmentation work."
   ]
  },
  {
   "cell_type": "markdown",
   "metadata": {},
   "source": [
    "### Load / prepare file and class definitions"
   ]
  },
  {
   "cell_type": "code",
   "execution_count": 2,
   "metadata": {},
   "outputs": [],
   "source": [
    "# The base directory location where the image and annotation folders live\n",
    "BASE_DATA_PATH = './data'\n",
    "\n",
    "# Load in the space-delimited CSV file, skipping leading comment rows and adding column names\n",
    "data = pd.read_csv(f'{BASE_DATA_PATH}/annotations/list.txt', \n",
    "                   header=None, \n",
    "                   skiprows=6, \n",
    "                   delimiter=' ',\n",
    "                   names=['image', 'label', 'species', 'breed'])"
   ]
  },
  {
   "cell_type": "code",
   "execution_count": 3,
   "metadata": {},
   "outputs": [
    {
     "data": {
      "text/plain": [
       "(7349, 4)"
      ]
     },
     "execution_count": 3,
     "metadata": {},
     "output_type": "execute_result"
    }
   ],
   "source": [
    "data.shape"
   ]
  },
  {
   "cell_type": "code",
   "execution_count": 4,
   "metadata": {},
   "outputs": [
    {
     "data": {
      "text/html": [
       "<div>\n",
       "<style scoped>\n",
       "    .dataframe tbody tr th:only-of-type {\n",
       "        vertical-align: middle;\n",
       "    }\n",
       "\n",
       "    .dataframe tbody tr th {\n",
       "        vertical-align: top;\n",
       "    }\n",
       "\n",
       "    .dataframe thead th {\n",
       "        text-align: right;\n",
       "    }\n",
       "</style>\n",
       "<table border=\"1\" class=\"dataframe\">\n",
       "  <thead>\n",
       "    <tr style=\"text-align: right;\">\n",
       "      <th></th>\n",
       "      <th>image</th>\n",
       "      <th>label</th>\n",
       "      <th>species</th>\n",
       "      <th>breed</th>\n",
       "    </tr>\n",
       "  </thead>\n",
       "  <tbody>\n",
       "    <tr>\n",
       "      <th>0</th>\n",
       "      <td>Abyssinian_100</td>\n",
       "      <td>1</td>\n",
       "      <td>1</td>\n",
       "      <td>1</td>\n",
       "    </tr>\n",
       "    <tr>\n",
       "      <th>1</th>\n",
       "      <td>Abyssinian_101</td>\n",
       "      <td>1</td>\n",
       "      <td>1</td>\n",
       "      <td>1</td>\n",
       "    </tr>\n",
       "    <tr>\n",
       "      <th>2</th>\n",
       "      <td>Abyssinian_102</td>\n",
       "      <td>1</td>\n",
       "      <td>1</td>\n",
       "      <td>1</td>\n",
       "    </tr>\n",
       "    <tr>\n",
       "      <th>3</th>\n",
       "      <td>Abyssinian_103</td>\n",
       "      <td>1</td>\n",
       "      <td>1</td>\n",
       "      <td>1</td>\n",
       "    </tr>\n",
       "    <tr>\n",
       "      <th>4</th>\n",
       "      <td>Abyssinian_104</td>\n",
       "      <td>1</td>\n",
       "      <td>1</td>\n",
       "      <td>1</td>\n",
       "    </tr>\n",
       "  </tbody>\n",
       "</table>\n",
       "</div>"
      ],
      "text/plain": [
       "            image  label  species  breed\n",
       "0  Abyssinian_100      1        1      1\n",
       "1  Abyssinian_101      1        1      1\n",
       "2  Abyssinian_102      1        1      1\n",
       "3  Abyssinian_103      1        1      1\n",
       "4  Abyssinian_104      1        1      1"
      ]
     },
     "execution_count": 4,
     "metadata": {},
     "output_type": "execute_result"
    }
   ],
   "source": [
    "data.head()"
   ]
  },
  {
   "cell_type": "markdown",
   "metadata": {},
   "source": [
    "We'll be using our custom SiameseDataset class in order to load paired image samples for our Siamese neural network. In order to load in the images, it needs a pandas DataFrame with two columsn: 1) the full path for all images, 2) the class label for each image.\n",
    "\n",
    "The `image` column in  `data` needs the full path and image extension (`.jpg` for all our images) added."
   ]
  },
  {
   "cell_type": "code",
   "execution_count": 5,
   "metadata": {},
   "outputs": [],
   "source": [
    "data['image'] = data['image'].map(lambda image_name: os.path.join(BASE_DATA_PATH, 'images', f'{image_name}.jpg'))"
   ]
  },
  {
   "cell_type": "code",
   "execution_count": 6,
   "metadata": {},
   "outputs": [
    {
     "data": {
      "text/html": [
       "<div>\n",
       "<style scoped>\n",
       "    .dataframe tbody tr th:only-of-type {\n",
       "        vertical-align: middle;\n",
       "    }\n",
       "\n",
       "    .dataframe tbody tr th {\n",
       "        vertical-align: top;\n",
       "    }\n",
       "\n",
       "    .dataframe thead th {\n",
       "        text-align: right;\n",
       "    }\n",
       "</style>\n",
       "<table border=\"1\" class=\"dataframe\">\n",
       "  <thead>\n",
       "    <tr style=\"text-align: right;\">\n",
       "      <th></th>\n",
       "      <th>image</th>\n",
       "      <th>label</th>\n",
       "      <th>species</th>\n",
       "      <th>breed</th>\n",
       "    </tr>\n",
       "  </thead>\n",
       "  <tbody>\n",
       "    <tr>\n",
       "      <th>0</th>\n",
       "      <td>../../data/images/Abyssinian_100.jpg</td>\n",
       "      <td>1</td>\n",
       "      <td>1</td>\n",
       "      <td>1</td>\n",
       "    </tr>\n",
       "    <tr>\n",
       "      <th>1</th>\n",
       "      <td>../../data/images/Abyssinian_101.jpg</td>\n",
       "      <td>1</td>\n",
       "      <td>1</td>\n",
       "      <td>1</td>\n",
       "    </tr>\n",
       "    <tr>\n",
       "      <th>2</th>\n",
       "      <td>../../data/images/Abyssinian_102.jpg</td>\n",
       "      <td>1</td>\n",
       "      <td>1</td>\n",
       "      <td>1</td>\n",
       "    </tr>\n",
       "    <tr>\n",
       "      <th>3</th>\n",
       "      <td>../../data/images/Abyssinian_103.jpg</td>\n",
       "      <td>1</td>\n",
       "      <td>1</td>\n",
       "      <td>1</td>\n",
       "    </tr>\n",
       "    <tr>\n",
       "      <th>4</th>\n",
       "      <td>../../data/images/Abyssinian_104.jpg</td>\n",
       "      <td>1</td>\n",
       "      <td>1</td>\n",
       "      <td>1</td>\n",
       "    </tr>\n",
       "  </tbody>\n",
       "</table>\n",
       "</div>"
      ],
      "text/plain": [
       "                                  image  label  species  breed\n",
       "0  ../../data/images/Abyssinian_100.jpg      1        1      1\n",
       "1  ../../data/images/Abyssinian_101.jpg      1        1      1\n",
       "2  ../../data/images/Abyssinian_102.jpg      1        1      1\n",
       "3  ../../data/images/Abyssinian_103.jpg      1        1      1\n",
       "4  ../../data/images/Abyssinian_104.jpg      1        1      1"
      ]
     },
     "execution_count": 6,
     "metadata": {},
     "output_type": "execute_result"
    }
   ],
   "source": [
    "data.head()"
   ]
  },
  {
   "cell_type": "markdown",
   "metadata": {},
   "source": [
    "### Create train/validation sets"
   ]
  },
  {
   "cell_type": "markdown",
   "metadata": {},
   "source": [
    "We'll use the scikit learn `train_test_split` function to divide our data into a training and validation set, using the class label column for stratification to ensure we get the proper proportional representation of each class in the respective datasets."
   ]
  },
  {
   "cell_type": "code",
   "execution_count": 7,
   "metadata": {},
   "outputs": [],
   "source": [
    "train_df, val_df = train_test_split(data, stratify=data['label'], test_size=0.25)"
   ]
  },
  {
   "cell_type": "markdown",
   "metadata": {},
   "source": [
    "The dataset is fairly small, so as usual we'll want to apply some image augmentation techniques to reduce overfitting. `pytorch` transforms take care of this, as well as forcing the images into a standard size and format. We map the pixel values of the images to be in the range `[-1,1]`, which is the range used for the pre-trained ResNets we'll be using below.\n",
    "\n",
    "We separate the `train` and `validation` transforms, since we don't need to apply the random augmentation transformations for the `validation` set during inference. Here we do not use test-time augmentation."
   ]
  },
  {
   "cell_type": "code",
   "execution_count": 8,
   "metadata": {},
   "outputs": [],
   "source": [
    "transform_train = transforms.Compose([\n",
    "    transforms.Resize((224,224)),\n",
    "    transforms.RandomHorizontalFlip(),\n",
    "    transforms.RandomRotation(20),\n",
    "    transforms.ToTensor(),\n",
    "    transforms.Lambda(lambda x: (x - 0.5) / 0.5)\n",
    "])\n",
    "\n",
    "transform_val = transforms.Compose([\n",
    "    transforms.Resize((224,224)),\n",
    "    transforms.ToTensor(),\n",
    "    transforms.Lambda(lambda x: (x - 0.5) / 0.5)\n",
    "])"
   ]
  },
  {
   "cell_type": "markdown",
   "metadata": {},
   "source": [
    "Create the `pytorch` `Dataset` objects. Here we use the default uniform sampling, where each class is equally likely to be sampled, regardless of the relative class frequency."
   ]
  },
  {
   "cell_type": "code",
   "execution_count": 9,
   "metadata": {},
   "outputs": [],
   "source": [
    "train_dataset = SiamesePairedDataset(train_df,\n",
    "                                     path_col='image',\n",
    "                                     label_col='label',\n",
    "                                     transform=transform_train)\n",
    "\n",
    "val_dataset = SiamesePairedDataset(val_df,\n",
    "                                   path_col='image',\n",
    "                                   label_col='label',\n",
    "                                   transform=transform_val)"
   ]
  },
  {
   "cell_type": "code",
   "execution_count": 10,
   "metadata": {},
   "outputs": [
    {
     "name": "stderr",
     "output_type": "stream",
     "text": [
      "Downloading: \"https://download.pytorch.org/models/resnet34-b627a593.pth\" to /home/chris/.cache/torch/hub/checkpoints/resnet34-b627a593.pth\n"
     ]
    },
    {
     "data": {
      "application/vnd.jupyter.widget-view+json": {
       "model_id": "fe5193170acd413dad067876acd8e2ea",
       "version_major": 2,
       "version_minor": 0
      },
      "text/plain": [
       "  0%|          | 0.00/83.3M [00:00<?, ?B/s]"
      ]
     },
     "metadata": {},
     "output_type": "display_data"
    }
   ],
   "source": [
    "# User adjustable mini-batch size for mini-batch stochastic gradient descent\n",
    "batch_size = 64\n",
    "\n",
    "# Use the GPU as the main device\n",
    "device = torch.device(0)\n",
    "\n",
    "def get_model_learner():\n",
    "    # Appropriate splits for ResNet models, used to apply different learning rates\n",
    "    # to different layers through the fastai API\n",
    "    split_dict = {'resnet18': [26, 50],'resnet34': [41, 90], 'resnet50': [57, 124]}\n",
    "\n",
    "    # Initialize the Siamese neural network, using a pretrained ResNet as the\n",
    "    # the image feature extractor. A randomly initialized fully connected layer \n",
    "    # is added to determine the image similarity\n",
    "    model_ft = SiameseNetwork(models.resnet34(pretrained=True))\n",
    "\n",
    "    # Initialize the fastai vision DataBunch, which helps distribute\n",
    "    # the model data to the GPU for the learner\n",
    "    databunch = DataBunch.create(train_dataset, \n",
    "                                 val_dataset, \n",
    "                                 bs=batch_size, \n",
    "                                 device=device, \n",
    "                                 num_workers=8)\n",
    "\n",
    "    # Set the training criterion, usually CrossEntropy for the way we have\n",
    "    # the Siamese network set up with binary outputs indicating similar/dissimilar\n",
    "    criterion = nn.CrossEntropyLoss()\n",
    "\n",
    "    # Initialize the fastai learner, which helps coordinate model training, taking\n",
    "    # care of many of the low level details for us\n",
    "    learn = Learner(databunch, \n",
    "                    model_ft, \n",
    "                    loss_func=criterion, \n",
    "                    metrics=accuracy, \n",
    "                    layer_groups=split_model_idx(model_ft, split_dict['resnet34']))\n",
    "    \n",
    "    return learn\n",
    "\n",
    "learn = get_model_learner()"
   ]
  },
  {
   "cell_type": "markdown",
   "metadata": {},
   "source": [
    "### Train the neural network\n",
    "\n",
    "For this first experiment we separated the dataset's images into the train and validation sets. For both datasets, all classes are represented, meaning each breed is in both the training and the validation sets.\n",
    "\n",
    "First we'll use the `fastai` learning rate finder, which begins training a single epoch for the network while stepping through increasing learning rates. This is used to determine an appropriate learning rate for the network and dataset, as described in Leslie Smith's 2015 work [Cyclical Learning Rates for Training Neural Networks](https://arxiv.org/pdf/1506.01186.pdf])."
   ]
  },
  {
   "cell_type": "code",
   "execution_count": 11,
   "metadata": {},
   "outputs": [
    {
     "data": {
      "text/html": [
       "\n",
       "    <div>\n",
       "        <style>\n",
       "            /* Turns off some styling */\n",
       "            progress {\n",
       "                /* gets rid of default border in Firefox and Opera. */\n",
       "                border: none;\n",
       "                /* Needs to be in here for Safari polyfill so background images work as expected. */\n",
       "                background-size: auto;\n",
       "            }\n",
       "            .progress-bar-interrupted, .progress-bar-interrupted::-webkit-progress-bar {\n",
       "                background: #F44336;\n",
       "            }\n",
       "        </style>\n",
       "      <progress value='1' class='' max='2' style='width:300px; height:20px; vertical-align: middle;'></progress>\n",
       "      50.00% [1/2 00:22<00:22]\n",
       "    </div>\n",
       "    \n",
       "<table border=\"1\" class=\"dataframe\">\n",
       "  <thead>\n",
       "    <tr style=\"text-align: left;\">\n",
       "      <th>epoch</th>\n",
       "      <th>train_loss</th>\n",
       "      <th>valid_loss</th>\n",
       "      <th>accuracy</th>\n",
       "      <th>time</th>\n",
       "    </tr>\n",
       "  </thead>\n",
       "  <tbody>\n",
       "    <tr>\n",
       "      <td>0</td>\n",
       "      <td>0.904957</td>\n",
       "      <td>#na#</td>\n",
       "      <td>00:22</td>\n",
       "    </tr>\n",
       "  </tbody>\n",
       "</table><p>\n",
       "\n",
       "    <div>\n",
       "        <style>\n",
       "            /* Turns off some styling */\n",
       "            progress {\n",
       "                /* gets rid of default border in Firefox and Opera. */\n",
       "                border: none;\n",
       "                /* Needs to be in here for Safari polyfill so background images work as expected. */\n",
       "                background-size: auto;\n",
       "            }\n",
       "            .progress-bar-interrupted, .progress-bar-interrupted::-webkit-progress-bar {\n",
       "                background: #F44336;\n",
       "            }\n",
       "        </style>\n",
       "      <progress value='9' class='' max='86' style='width:300px; height:20px; vertical-align: middle;'></progress>\n",
       "      10.47% [9/86 00:03<00:26 2.4077]\n",
       "    </div>\n",
       "    "
      ],
      "text/plain": [
       "<IPython.core.display.HTML object>"
      ]
     },
     "metadata": {},
     "output_type": "display_data"
    },
    {
     "name": "stderr",
     "output_type": "stream",
     "text": [
      "/home/chris/apps/miniconda3/envs/siamese/lib/python3.7/site-packages/torch/nn/functional.py:718: UserWarning: Named tensors and all their associated APIs are an experimental feature and subject to change. Please do not use them for anything important until they are released as stable. (Triggered internally at  /opt/conda/conda-bld/pytorch_1623448224956/work/c10/core/TensorImpl.h:1156.)\n",
      "  return torch.max_pool2d(input, kernel_size, stride, padding, dilation, ceil_mode)\n"
     ]
    },
    {
     "name": "stdout",
     "output_type": "stream",
     "text": [
      "LR Finder is complete, type {learner_name}.recorder.plot() to see the graph.\n"
     ]
    }
   ],
   "source": [
    "learn.lr_find()"
   ]
  },
  {
   "cell_type": "code",
   "execution_count": 12,
   "metadata": {},
   "outputs": [
    {
     "data": {
      "image/png": "[encoded data removed]",
      "text/plain": [
       "<Figure size 432x288 with 1 Axes>"
      ]
     },
     "metadata": {
      "needs_background": "light"
     },
     "output_type": "display_data"
    }
   ],
   "source": [
    "learn.recorder.plot()"
   ]
  },
  {
   "cell_type": "markdown",
   "metadata": {},
   "source": [
    "From this plot, we can see that a learning rate of `1e-3` is probably an appropriate place to train our network. We apply the one-cycle policy discussed in Leslie Smith's 2018 work [A disciplined approach to neural network hyper-parameters: Part 1 -- learning rate, batch size, momentum, and weight decay](https://arxiv.org/abs/1803.09820)."
   ]
  },
  {
   "cell_type": "code",
   "execution_count": 13,
   "metadata": {},
   "outputs": [
    {
     "data": {
      "text/html": [
       "<table border=\"1\" class=\"dataframe\">\n",
       "  <thead>\n",
       "    <tr style=\"text-align: left;\">\n",
       "      <th>epoch</th>\n",
       "      <th>train_loss</th>\n",
       "      <th>valid_loss</th>\n",
       "      <th>accuracy</th>\n",
       "      <th>time</th>\n",
       "    </tr>\n",
       "  </thead>\n",
       "  <tbody>\n",
       "    <tr>\n",
       "      <td>0</td>\n",
       "      <td>0.634686</td>\n",
       "      <td>0.546201</td>\n",
       "      <td>0.726877</td>\n",
       "      <td>00:25</td>\n",
       "    </tr>\n",
       "    <tr>\n",
       "      <td>1</td>\n",
       "      <td>0.387329</td>\n",
       "      <td>0.267140</td>\n",
       "      <td>0.909684</td>\n",
       "      <td>00:26</td>\n",
       "    </tr>\n",
       "    <tr>\n",
       "      <td>2</td>\n",
       "      <td>0.255543</td>\n",
       "      <td>0.193912</td>\n",
       "      <td>0.940152</td>\n",
       "      <td>00:26</td>\n",
       "    </tr>\n",
       "    <tr>\n",
       "      <td>3</td>\n",
       "      <td>0.210447</td>\n",
       "      <td>0.179709</td>\n",
       "      <td>0.929271</td>\n",
       "      <td>00:26</td>\n",
       "    </tr>\n",
       "    <tr>\n",
       "      <td>4</td>\n",
       "      <td>0.182956</td>\n",
       "      <td>0.195359</td>\n",
       "      <td>0.928183</td>\n",
       "      <td>00:26</td>\n",
       "    </tr>\n",
       "    <tr>\n",
       "      <td>5</td>\n",
       "      <td>0.152319</td>\n",
       "      <td>0.131363</td>\n",
       "      <td>0.955930</td>\n",
       "      <td>00:26</td>\n",
       "    </tr>\n",
       "    <tr>\n",
       "      <td>6</td>\n",
       "      <td>0.127392</td>\n",
       "      <td>0.149276</td>\n",
       "      <td>0.949401</td>\n",
       "      <td>00:26</td>\n",
       "    </tr>\n",
       "    <tr>\n",
       "      <td>7</td>\n",
       "      <td>0.121613</td>\n",
       "      <td>0.135203</td>\n",
       "      <td>0.950490</td>\n",
       "      <td>00:26</td>\n",
       "    </tr>\n",
       "    <tr>\n",
       "      <td>8</td>\n",
       "      <td>0.105883</td>\n",
       "      <td>0.133211</td>\n",
       "      <td>0.955386</td>\n",
       "      <td>00:26</td>\n",
       "    </tr>\n",
       "    <tr>\n",
       "      <td>9</td>\n",
       "      <td>0.102231</td>\n",
       "      <td>0.110639</td>\n",
       "      <td>0.960827</td>\n",
       "      <td>00:26</td>\n",
       "    </tr>\n",
       "  </tbody>\n",
       "</table>"
      ],
      "text/plain": [
       "<IPython.core.display.HTML object>"
      ]
     },
     "metadata": {},
     "output_type": "display_data"
    }
   ],
   "source": [
    "lr = 1e-3\n",
    "learn.fit_one_cycle(10, slice(1e-5,1e-3))"
   ]
  },
  {
   "cell_type": "markdown",
   "metadata": {},
   "source": [
    "### Train the neural network, holding out a set of classes\n",
    "\n",
    "One of the major applications of Siamese neural networks is for one-shot learning. Here, a network is trained to learn when images are similar/dissimilar. For example, we train the network with a dataset consisting of many types of balls (basketball, baseball, raquetball, etc.). After training, we want to take a single image of a new type of ball (say it's never seen a tennis ball before), and use that to identify other tennis balls in new image data. \n",
    "\n",
    "This type of one-shot learning is very interesting for applications like facial recognition. Think about Apple's FaceID. It takes a few shots of your face from various angles, and from then on it can determine if new face images taken during the authentication process are you or someone else attempting to access your phone. Apple likely uses some sort of Siamese network underneath the hood to accomplish this, using a trained network to infer whether or not the new image is the phone's owner.\n",
    "\n",
    "In the training above, we haven't _quite_ tested this idea. We mixed in all the image classes together in both the training and validation sets. We didn't hold out our tennis ball during training, so the network had already seen tennis balls, and should have an easier time identifying images similar to a reference tennis ball image. We don't know if it's really learned general features that make ball types similar, or if it's memorized very specific features of each class.\n",
    "\n",
    "Let's try the same training, except we'll create our training and validation datasets from completely different classes, and test how well the network is learning to identify similar cat/dog breeds that it hasn't seen before."
   ]
  },
  {
   "cell_type": "code",
   "execution_count": 14,
   "metadata": {},
   "outputs": [],
   "source": [
    "# Extract the unique set of classes\n",
    "classes = data['label'].unique()\n",
    "\n",
    "# Randomly choose 2/3 of the breeds (25) for the train set, the rest are the validation set\n",
    "train_classes = np.random.choice(classes, size=25, replace=False)\n",
    "val_classes   = set(classes) - set(train_classes)"
   ]
  },
  {
   "cell_type": "code",
   "execution_count": 15,
   "metadata": {},
   "outputs": [],
   "source": [
    "# Seprate the train and validation parts of our data\n",
    "train_df = data[data['label'].map(lambda x: x in train_classes)]\n",
    "val_df   = data[data['label'].map(lambda x: x in val_classes)]"
   ]
  },
  {
   "cell_type": "code",
   "execution_count": 16,
   "metadata": {},
   "outputs": [
    {
     "data": {
      "text/plain": [
       "((4974, 4), (2375, 4), (7349, 4))"
      ]
     },
     "execution_count": 16,
     "metadata": {},
     "output_type": "execute_result"
    }
   ],
   "source": [
    "train_df.shape, val_df.shape, data.shape,"
   ]
  },
  {
   "cell_type": "markdown",
   "metadata": {},
   "source": [
    "Now we can carry through with the rest of our training as before."
   ]
  },
  {
   "cell_type": "code",
   "execution_count": 17,
   "metadata": {},
   "outputs": [],
   "source": [
    "train_dataset = SiamesePairedDataset(train_df,\n",
    "                                     path_col='image',\n",
    "                                     label_col='label',\n",
    "                                     transform=transform_train)\n",
    "\n",
    "val_dataset = SiamesePairedDataset(val_df,\n",
    "                                   path_col='image',\n",
    "                                   label_col='label',\n",
    "                                   transform=transform_val)"
   ]
  },
  {
   "cell_type": "code",
   "execution_count": 18,
   "metadata": {},
   "outputs": [],
   "source": [
    "learn = get_model_learner()"
   ]
  },
  {
   "cell_type": "code",
   "execution_count": 19,
   "metadata": {},
   "outputs": [
    {
     "data": {
      "text/html": [
       "\n",
       "    <div>\n",
       "        <style>\n",
       "            /* Turns off some styling */\n",
       "            progress {\n",
       "                /* gets rid of default border in Firefox and Opera. */\n",
       "                border: none;\n",
       "                /* Needs to be in here for Safari polyfill so background images work as expected. */\n",
       "                background-size: auto;\n",
       "            }\n",
       "            .progress-bar-interrupted, .progress-bar-interrupted::-webkit-progress-bar {\n",
       "                background: #F44336;\n",
       "            }\n",
       "        </style>\n",
       "      <progress value='1' class='' max='2' style='width:300px; height:20px; vertical-align: middle;'></progress>\n",
       "      50.00% [1/2 00:20<00:20]\n",
       "    </div>\n",
       "    \n",
       "<table border=\"1\" class=\"dataframe\">\n",
       "  <thead>\n",
       "    <tr style=\"text-align: left;\">\n",
       "      <th>epoch</th>\n",
       "      <th>train_loss</th>\n",
       "      <th>valid_loss</th>\n",
       "      <th>accuracy</th>\n",
       "      <th>time</th>\n",
       "    </tr>\n",
       "  </thead>\n",
       "  <tbody>\n",
       "    <tr>\n",
       "      <td>0</td>\n",
       "      <td>0.820161</td>\n",
       "      <td>#na#</td>\n",
       "      <td>00:20</td>\n",
       "    </tr>\n",
       "  </tbody>\n",
       "</table><p>\n",
       "\n",
       "    <div>\n",
       "        <style>\n",
       "            /* Turns off some styling */\n",
       "            progress {\n",
       "                /* gets rid of default border in Firefox and Opera. */\n",
       "                border: none;\n",
       "                /* Needs to be in here for Safari polyfill so background images work as expected. */\n",
       "                background-size: auto;\n",
       "            }\n",
       "            .progress-bar-interrupted, .progress-bar-interrupted::-webkit-progress-bar {\n",
       "                background: #F44336;\n",
       "            }\n",
       "        </style>\n",
       "      <progress value='16' class='' max='77' style='width:300px; height:20px; vertical-align: middle;'></progress>\n",
       "      20.78% [16/77 00:04<00:18 2.3471]\n",
       "    </div>\n",
       "    "
      ],
      "text/plain": [
       "<IPython.core.display.HTML object>"
      ]
     },
     "metadata": {},
     "output_type": "display_data"
    },
    {
     "name": "stdout",
     "output_type": "stream",
     "text": [
      "LR Finder is complete, type {learner_name}.recorder.plot() to see the graph.\n"
     ]
    }
   ],
   "source": [
    "learn.lr_find()"
   ]
  },
  {
   "cell_type": "code",
   "execution_count": 20,
   "metadata": {},
   "outputs": [
    {
     "data": {
      "image/png": "[encoded data removed]",
      "text/plain": [
       "<Figure size 432x288 with 1 Axes>"
      ]
     },
     "metadata": {
      "needs_background": "light"
     },
     "output_type": "display_data"
    }
   ],
   "source": [
    "learn.recorder.plot()"
   ]
  },
  {
   "cell_type": "code",
   "execution_count": 21,
   "metadata": {},
   "outputs": [
    {
     "data": {
      "text/html": [
       "<table border=\"1\" class=\"dataframe\">\n",
       "  <thead>\n",
       "    <tr style=\"text-align: left;\">\n",
       "      <th>epoch</th>\n",
       "      <th>train_loss</th>\n",
       "      <th>valid_loss</th>\n",
       "      <th>accuracy</th>\n",
       "      <th>time</th>\n",
       "    </tr>\n",
       "  </thead>\n",
       "  <tbody>\n",
       "    <tr>\n",
       "      <td>0</td>\n",
       "      <td>0.554996</td>\n",
       "      <td>0.470043</td>\n",
       "      <td>0.781053</td>\n",
       "      <td>00:25</td>\n",
       "    </tr>\n",
       "    <tr>\n",
       "      <td>1</td>\n",
       "      <td>0.297957</td>\n",
       "      <td>0.380450</td>\n",
       "      <td>0.842105</td>\n",
       "      <td>00:24</td>\n",
       "    </tr>\n",
       "    <tr>\n",
       "      <td>2</td>\n",
       "      <td>0.189026</td>\n",
       "      <td>0.446970</td>\n",
       "      <td>0.825684</td>\n",
       "      <td>00:24</td>\n",
       "    </tr>\n",
       "    <tr>\n",
       "      <td>3</td>\n",
       "      <td>0.149350</td>\n",
       "      <td>0.386634</td>\n",
       "      <td>0.845895</td>\n",
       "      <td>00:24</td>\n",
       "    </tr>\n",
       "    <tr>\n",
       "      <td>4</td>\n",
       "      <td>0.115168</td>\n",
       "      <td>0.404818</td>\n",
       "      <td>0.845053</td>\n",
       "      <td>00:25</td>\n",
       "    </tr>\n",
       "  </tbody>\n",
       "</table>"
      ],
      "text/plain": [
       "<IPython.core.display.HTML object>"
      ]
     },
     "metadata": {},
     "output_type": "display_data"
    }
   ],
   "source": [
    "learn = get_model_learner()\n",
    "learn.fit_one_cycle(5, slice(1e-5,1e-3))#slice(lr))"
   ]
  },
  {
   "cell_type": "code",
   "execution_count": 22,
   "metadata": {},
   "outputs": [
    {
     "data": {
      "text/html": [
       "<table border=\"1\" class=\"dataframe\">\n",
       "  <thead>\n",
       "    <tr style=\"text-align: left;\">\n",
       "      <th>epoch</th>\n",
       "      <th>train_loss</th>\n",
       "      <th>valid_loss</th>\n",
       "      <th>accuracy</th>\n",
       "      <th>time</th>\n",
       "    </tr>\n",
       "  </thead>\n",
       "  <tbody>\n",
       "    <tr>\n",
       "      <td>0</td>\n",
       "      <td>0.669222</td>\n",
       "      <td>0.603134</td>\n",
       "      <td>0.659790</td>\n",
       "      <td>00:25</td>\n",
       "    </tr>\n",
       "    <tr>\n",
       "      <td>1</td>\n",
       "      <td>0.432716</td>\n",
       "      <td>0.405177</td>\n",
       "      <td>0.839158</td>\n",
       "      <td>00:25</td>\n",
       "    </tr>\n",
       "    <tr>\n",
       "      <td>2</td>\n",
       "      <td>0.255557</td>\n",
       "      <td>0.388805</td>\n",
       "      <td>0.836632</td>\n",
       "      <td>00:24</td>\n",
       "    </tr>\n",
       "    <tr>\n",
       "      <td>3</td>\n",
       "      <td>0.181542</td>\n",
       "      <td>0.378362</td>\n",
       "      <td>0.850105</td>\n",
       "      <td>00:25</td>\n",
       "    </tr>\n",
       "    <tr>\n",
       "      <td>4</td>\n",
       "      <td>0.142584</td>\n",
       "      <td>0.432630</td>\n",
       "      <td>0.837474</td>\n",
       "      <td>00:24</td>\n",
       "    </tr>\n",
       "    <tr>\n",
       "      <td>5</td>\n",
       "      <td>0.126347</td>\n",
       "      <td>0.438615</td>\n",
       "      <td>0.829895</td>\n",
       "      <td>00:24</td>\n",
       "    </tr>\n",
       "    <tr>\n",
       "      <td>6</td>\n",
       "      <td>0.104178</td>\n",
       "      <td>0.409597</td>\n",
       "      <td>0.848421</td>\n",
       "      <td>00:24</td>\n",
       "    </tr>\n",
       "    <tr>\n",
       "      <td>7</td>\n",
       "      <td>0.079840</td>\n",
       "      <td>0.376394</td>\n",
       "      <td>0.851368</td>\n",
       "      <td>00:25</td>\n",
       "    </tr>\n",
       "    <tr>\n",
       "      <td>8</td>\n",
       "      <td>0.075346</td>\n",
       "      <td>0.373448</td>\n",
       "      <td>0.852632</td>\n",
       "      <td>00:25</td>\n",
       "    </tr>\n",
       "    <tr>\n",
       "      <td>9</td>\n",
       "      <td>0.076464</td>\n",
       "      <td>0.398080</td>\n",
       "      <td>0.851368</td>\n",
       "      <td>00:24</td>\n",
       "    </tr>\n",
       "  </tbody>\n",
       "</table>"
      ],
      "text/plain": [
       "<IPython.core.display.HTML object>"
      ]
     },
     "metadata": {},
     "output_type": "display_data"
    }
   ],
   "source": [
    "learn = get_model_learner()\n",
    "learn.fit_one_cycle(10, slice(1e-5,1e-3))#slice(lr))"
   ]
  },
  {
   "cell_type": "code",
   "execution_count": 23,
   "metadata": {},
   "outputs": [
    {
     "data": {
      "text/html": [
       "<table border=\"1\" class=\"dataframe\">\n",
       "  <thead>\n",
       "    <tr style=\"text-align: left;\">\n",
       "      <th>epoch</th>\n",
       "      <th>train_loss</th>\n",
       "      <th>valid_loss</th>\n",
       "      <th>accuracy</th>\n",
       "      <th>time</th>\n",
       "    </tr>\n",
       "  </thead>\n",
       "  <tbody>\n",
       "    <tr>\n",
       "      <td>0</td>\n",
       "      <td>0.668642</td>\n",
       "      <td>0.626179</td>\n",
       "      <td>0.612211</td>\n",
       "      <td>00:24</td>\n",
       "    </tr>\n",
       "    <tr>\n",
       "      <td>1</td>\n",
       "      <td>0.474935</td>\n",
       "      <td>0.427883</td>\n",
       "      <td>0.829474</td>\n",
       "      <td>00:25</td>\n",
       "    </tr>\n",
       "    <tr>\n",
       "      <td>2</td>\n",
       "      <td>0.289705</td>\n",
       "      <td>0.351642</td>\n",
       "      <td>0.854316</td>\n",
       "      <td>00:24</td>\n",
       "    </tr>\n",
       "    <tr>\n",
       "      <td>3</td>\n",
       "      <td>0.200034</td>\n",
       "      <td>0.377719</td>\n",
       "      <td>0.853053</td>\n",
       "      <td>00:25</td>\n",
       "    </tr>\n",
       "    <tr>\n",
       "      <td>4</td>\n",
       "      <td>0.159963</td>\n",
       "      <td>0.442171</td>\n",
       "      <td>0.818105</td>\n",
       "      <td>00:25</td>\n",
       "    </tr>\n",
       "    <tr>\n",
       "      <td>5</td>\n",
       "      <td>0.140981</td>\n",
       "      <td>0.375517</td>\n",
       "      <td>0.860211</td>\n",
       "      <td>00:24</td>\n",
       "    </tr>\n",
       "    <tr>\n",
       "      <td>6</td>\n",
       "      <td>0.132472</td>\n",
       "      <td>0.459253</td>\n",
       "      <td>0.840421</td>\n",
       "      <td>00:24</td>\n",
       "    </tr>\n",
       "    <tr>\n",
       "      <td>7</td>\n",
       "      <td>0.109624</td>\n",
       "      <td>0.434629</td>\n",
       "      <td>0.844211</td>\n",
       "      <td>00:24</td>\n",
       "    </tr>\n",
       "    <tr>\n",
       "      <td>8</td>\n",
       "      <td>0.092997</td>\n",
       "      <td>0.397693</td>\n",
       "      <td>0.854737</td>\n",
       "      <td>00:24</td>\n",
       "    </tr>\n",
       "    <tr>\n",
       "      <td>9</td>\n",
       "      <td>0.082939</td>\n",
       "      <td>0.409582</td>\n",
       "      <td>0.842526</td>\n",
       "      <td>00:25</td>\n",
       "    </tr>\n",
       "    <tr>\n",
       "      <td>10</td>\n",
       "      <td>0.062485</td>\n",
       "      <td>0.460593</td>\n",
       "      <td>0.833263</td>\n",
       "      <td>00:25</td>\n",
       "    </tr>\n",
       "    <tr>\n",
       "      <td>11</td>\n",
       "      <td>0.058828</td>\n",
       "      <td>0.424440</td>\n",
       "      <td>0.837474</td>\n",
       "      <td>00:25</td>\n",
       "    </tr>\n",
       "    <tr>\n",
       "      <td>12</td>\n",
       "      <td>0.048399</td>\n",
       "      <td>0.430329</td>\n",
       "      <td>0.846737</td>\n",
       "      <td>00:25</td>\n",
       "    </tr>\n",
       "    <tr>\n",
       "      <td>13</td>\n",
       "      <td>0.046500</td>\n",
       "      <td>0.383456</td>\n",
       "      <td>0.852632</td>\n",
       "      <td>00:25</td>\n",
       "    </tr>\n",
       "    <tr>\n",
       "      <td>14</td>\n",
       "      <td>0.056068</td>\n",
       "      <td>0.432849</td>\n",
       "      <td>0.846737</td>\n",
       "      <td>00:25</td>\n",
       "    </tr>\n",
       "  </tbody>\n",
       "</table>"
      ],
      "text/plain": [
       "<IPython.core.display.HTML object>"
      ]
     },
     "metadata": {},
     "output_type": "display_data"
    }
   ],
   "source": [
    "learn = get_model_learner()\n",
    "learn.fit_one_cycle(15, slice(1e-5,1e-3))#slice(lr))"
   ]
  },
  {
   "cell_type": "code",
   "execution_count": null,
   "metadata": {},
   "outputs": [],
   "source": []
  }
 ],
 "metadata": {
  "kernelspec": {
   "display_name": "Python 3",
   "language": "python",
   "name": "python3"
  },
  "language_info": {
   "codemirror_mode": {
    "name": "ipython",
    "version": 3
   },
   "file_extension": ".py",
   "mimetype": "text/x-python",
   "name": "python",
   "nbconvert_exporter": "python",
   "pygments_lexer": "ipython3",
   "version": "3.7.10"
  }
 },
 "nbformat": 4,
 "nbformat_minor": 4
}
